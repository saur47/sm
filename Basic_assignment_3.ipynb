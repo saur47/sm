{
 "cells": [
  {
   "cell_type": "markdown",
   "metadata": {},
   "source": [
    "Question\n",
    "\n",
    "Why are functions advantageous to have in your programs?\n",
    "\n",
    "\n",
    "Answer\n",
    "\n",
    "Just as a house, a function is reusable. It saves your day by having a single solution for a repeating problem so you don’t have to do the same work over and over again."
   ]
  },
  {
   "cell_type": "markdown",
   "metadata": {},
   "source": [
    "Question\n",
    "\n",
    "2. When does the code in a function run: when it&#39;s specified or when it&#39;s called?\n",
    "\n",
    "\n",
    "\n",
    "Answer\n",
    "\n",
    "To carry out that specific task, the function might or might not need multiple inputs.\n",
    "\n"
   ]
  },
  {
   "cell_type": "markdown",
   "metadata": {},
   "source": [
    "Question\n",
    "\n",
    "What statement creates a function?\n",
    "\n",
    "\n",
    "Answer\n",
    "\n",
    "The “def” keyword is a statement for defining a function in Python"
   ]
  },
  {
   "cell_type": "markdown",
   "metadata": {},
   "source": [
    "Question\n",
    "\n",
    "What is the difference between a function and a function call?\n",
    "\n",
    "\n",
    "Answer\n",
    "\n",
    "A function is a block of code that does a particular operation and returns a result. It usually accepts inputs as parameters and returns a result. The parameters are not mandatory\n",
    "\n",
    "\n",
    "A function call is the code used to pass control to a function"
   ]
  },
  {
   "cell_type": "markdown",
   "metadata": {},
   "source": [
    "Question\n",
    "\n",
    "How many global scopes are there in a Python program? How many local scopes?\n",
    "\n",
    "\n",
    "Answer\n",
    "\n",
    "There's only one global Python scope per program execution\n",
    "\n",
    "There can be any number of local Python scope per program execution\n",
    "\n"
   ]
  },
  {
   "cell_type": "markdown",
   "metadata": {},
   "source": [
    "Question\n",
    "\n",
    "What happens to variables in a local scope when the function call returns?\n",
    "\n",
    "Answer\n",
    "\n",
    "A local variable retains its value until the next time the function is called\n",
    "\n",
    "A local variable becomes undefined after the function call completes\n",
    "\n",
    "The local variable can be used outside the function any time after the function call completes."
   ]
  },
  {
   "cell_type": "markdown",
   "metadata": {},
   "source": [
    "Question\n",
    "\n",
    "What is the concept of a return value? Is it possible to have a return value in an expression?\n",
    "\n",
    "Answer\n",
    "\n",
    "The Python return statement is a key component of functions and methods. You can use the return statement to make your functions send Python objects back to the caller code. These objects are known as the function’s return value. You can use them to perform further computation in your programs.\n",
    "\n",
    "Using the return statement effectively is a core skill if you want to code custom functions that are Pythonic and robust.\n",
    "\n",
    "\n",
    "Yes it is possible to have a return value in an expression"
   ]
  },
  {
   "cell_type": "markdown",
   "metadata": {},
   "source": [
    "Question\n",
    "\n",
    "If a function does not have a return statement, what is the return value of a call to that function?\n",
    "\n",
    "Answer\n",
    "\n",
    "If no return statement appears in a function definition, control automatically returns to the calling function after the last statement of the called function is executed. In this case, the return value of the called function is undefined."
   ]
  },
  {
   "cell_type": "markdown",
   "metadata": {},
   "source": [
    "Question\n",
    "\n",
    "How do you make a function variable refer to the global variable?\n",
    "\n",
    "\n",
    "answer\n",
    "\n",
    "To create a global variable inside a function, you can use the global keyword"
   ]
  },
  {
   "cell_type": "markdown",
   "metadata": {},
   "source": [
    "Question\n",
    "\n",
    "What is the data type of None?\n",
    "\n",
    "Answer\n",
    "\n",
    "None is a data type of its own (NoneType)"
   ]
  },
  {
   "cell_type": "markdown",
   "metadata": {},
   "source": [
    "Question\n",
    "\n",
    "What does the sentence import areallyourpetsnamederic do?\n",
    "\n",
    "Answer\n",
    "\n",
    "It will import the libaray name areallyourpetsnamederic"
   ]
  },
  {
   "cell_type": "markdown",
   "metadata": {},
   "source": [
    "Question\n",
    "\n",
    "If you had a bacon() feature in a spam module, what would you call it after importing spam?\n",
    "\n",
    "Answer\n",
    "\n",
    "This function can be called with spam.bacon()."
   ]
  },
  {
   "cell_type": "markdown",
   "metadata": {},
   "source": [
    "Question\n",
    "\n",
    "What can you do to save a programme from crashing if it encounters an error?\n",
    "\n",
    "\n",
    "Answer\n",
    "\n",
    "Try running the program and it should throw an error message instead of crashing the program. The reason for the exception is also returned as an exception message. In the above code, we have handled the file reading inside an IOError exception handler"
   ]
  },
  {
   "cell_type": "markdown",
   "metadata": {},
   "source": [
    "Question\n",
    "\n",
    "What is the purpose of the try clause? What is the purpose of the except clause?\n",
    "\n",
    "\n",
    "Answer\n",
    "\n",
    "In the try clause, all statements are executed until an exception is encountered. except is used to catch and handle the exception(s) that are encountered in the try clause. else lets you code sections that should run only when no exceptions are encountered in the try clause."
   ]
  },
  {
   "cell_type": "code",
   "execution_count": null,
   "metadata": {},
   "outputs": [],
   "source": []
  }
 ],
 "metadata": {
  "kernelspec": {
   "display_name": "Python 3",
   "language": "python",
   "name": "python3"
  },
  "language_info": {
   "codemirror_mode": {
    "name": "ipython",
    "version": 3
   },
   "file_extension": ".py",
   "mimetype": "text/x-python",
   "name": "python",
   "nbconvert_exporter": "python",
   "pygments_lexer": "ipython3",
   "version": "3.7.4"
  }
 },
 "nbformat": 4,
 "nbformat_minor": 2
}

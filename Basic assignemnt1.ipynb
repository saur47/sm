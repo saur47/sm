{
 "cells": [
  {
   "cell_type": "markdown",
   "metadata": {},
   "source": [
    "1. In the below elements which of them are values or an expression? eg:- values can be integer or string and expressions will be mathematical operators.\n",
    "\n",
    "* \n",
    "'hello'\n",
    "-87.8\n",
    "- \n",
    "/ \n",
    "+\t\n",
    "6 \n"
   ]
  },
  {
   "cell_type": "markdown",
   "metadata": {},
   "source": [
    "Answer\n",
    "\n",
    "* = Expression\n",
    "\n",
    "\n",
    "'hello' = Value  (string)\n",
    "\n",
    "-87.8  = Value (float)\n",
    "\n",
    "- = Expression\n",
    "\n",
    "/  =  Expression\n",
    "\n",
    "+  =  Expression\n",
    "\n",
    "\n",
    "6 = Value (integar)\n",
    "\n"
   ]
  },
  {
   "cell_type": "markdown",
   "metadata": {},
   "source": [
    "2. What is the difference between string and variable?"
   ]
  },
  {
   "cell_type": "markdown",
   "metadata": {},
   "source": [
    "Answer \n",
    "\n",
    "Variable is a store of information, and a String is a type of information you would store in a Variable. A String is usually words, enclosed with \"\"\n",
    "\n",
    "string a class ....  reference datatype  ... it is used to represent text type data...\n",
    "variable is any alphabet or gropu of alphabet which work as temporary storage locations , a variable is used to represent any value\n",
    "\n",
    "String x=\"anand\";\n",
    "// here x is variable and type of value it stores is in string"
   ]
  },
  {
   "cell_type": "markdown",
   "metadata": {},
   "source": [
    "question \n",
    "\n",
    "Describe three different data types."
   ]
  },
  {
   "cell_type": "markdown",
   "metadata": {},
   "source": [
    "Answer\n",
    "\n",
    "1)Integers – This value is represented by int class. It contains positive or negative whole numbers \n",
    "(without fraction or decimal). In Python there is no limit to how long an integer value can be.\n",
    "\n",
    "\n",
    "2)Float – This value is represented by float class. It is a real number with \n",
    "floating point representation. It is specified by a decimal point. Optionally, the character e or E\n",
    "followed by a positive or negative integer may be appended to specify scientific notation.\n",
    "\n",
    "\n",
    "3)String- Strings are arrays of bytes representing Unicode characters. A string is a collection of one or more characters put in a single quote, double-quote or triple quote. In python there is no character data type, a character is a string of length one. It is represented by str class"
   ]
  },
  {
   "cell_type": "markdown",
   "metadata": {},
   "source": [
    "question\n",
    "What is an expression made up of? What do all expressions do?"
   ]
  },
  {
   "cell_type": "markdown",
   "metadata": {},
   "source": [
    "Expressions are combinations of values and operators and always evaluate down to a single value. A statement is every other instruction. Some statements contain expressions.\n",
    "\n",
    "An expression is an instruction that combines values and operators and always evaluates down to a single value.\n",
    "\n",
    "For example, this is an expression:\n",
    "\n",
    "2+2"
   ]
  },
  {
   "cell_type": "markdown",
   "metadata": {},
   "source": [
    "Question \n",
    "\n",
    "This assignment statements, like spam = 10. What is the difference between an expression and a statement?"
   ]
  },
  {
   "cell_type": "markdown",
   "metadata": {},
   "source": [
    "Answer\n",
    "\n",
    "A statement does something. Statements represent an action or command e.g print statements, assignment statements. Expression is a combination of variables, operations and values that yields a result value. An expression is something that can be reduced to a value, for example \"1+3\" or \"foo = 1+3\""
   ]
  },
  {
   "cell_type": "markdown",
   "metadata": {},
   "source": [
    "Question \n",
    "\n",
    "After running the following code, what does the variable bacon contain?\n",
    "bacon = 22\n",
    "bacon + 1\t\n"
   ]
  },
  {
   "cell_type": "markdown",
   "metadata": {},
   "source": [
    "Answer   23"
   ]
  },
  {
   "cell_type": "markdown",
   "metadata": {},
   "source": [
    "Question\n",
    "\n",
    "What should the values of the following two terms be?\n",
    "'spam' + 'spamspam'\n",
    "'spam' * 3\n",
    "\n",
    "\n",
    "\n",
    "\n",
    "\n"
   ]
  },
  {
   "cell_type": "code",
   "execution_count": 6,
   "metadata": {},
   "outputs": [
    {
     "data": {
      "text/plain": [
       "'spamspamspam'"
      ]
     },
     "execution_count": 6,
     "metadata": {},
     "output_type": "execute_result"
    }
   ],
   "source": [
    "#Answer\n",
    "'spam' + 'spamspam'\n"
   ]
  },
  {
   "cell_type": "code",
   "execution_count": 7,
   "metadata": {},
   "outputs": [
    {
     "data": {
      "text/plain": [
       "'spamspamspam'"
      ]
     },
     "execution_count": 7,
     "metadata": {},
     "output_type": "execute_result"
    }
   ],
   "source": [
    " 'spam' * 3"
   ]
  },
  {
   "cell_type": "markdown",
   "metadata": {},
   "source": [
    "Answer\n",
    "\n",
    "Both have answer\n",
    "\n",
    "'spamspamspam'"
   ]
  },
  {
   "cell_type": "markdown",
   "metadata": {},
   "source": [
    "Question \n",
    "\n",
    "Why is eggs a valid variable name while 100 is invalid?\n",
    "\n",
    "\n",
    "Answer\n",
    "\n",
    "Because number are allowed as naming convenction of variable but alphabets can.Please refer the below code\n"
   ]
  },
  {
   "cell_type": "code",
   "execution_count": 8,
   "metadata": {},
   "outputs": [],
   "source": [
    "#valid\n",
    "eggs='saurabh'"
   ]
  },
  {
   "cell_type": "code",
   "execution_count": 9,
   "metadata": {},
   "outputs": [
    {
     "ename": "SyntaxError",
     "evalue": "can't assign to literal (<ipython-input-9-17d2eec9a530>, line 2)",
     "output_type": "error",
     "traceback": [
      "\u001b[1;36m  File \u001b[1;32m\"<ipython-input-9-17d2eec9a530>\"\u001b[1;36m, line \u001b[1;32m2\u001b[0m\n\u001b[1;33m    100=\"saurabh\"\u001b[0m\n\u001b[1;37m                 ^\u001b[0m\n\u001b[1;31mSyntaxError\u001b[0m\u001b[1;31m:\u001b[0m can't assign to literal\n"
     ]
    }
   ],
   "source": [
    "#invalid\n",
    "100=\"saurabh\""
   ]
  },
  {
   "cell_type": "markdown",
   "metadata": {},
   "source": [
    "Question \n",
    "\n",
    "What three functions can be used to get the integer, floating-point number, or string version of a value?\n",
    "\n",
    "\n",
    "Answer\n",
    "\n",
    "integar = int\n",
    "\n",
    "floating-point number = float\n",
    "\n",
    "string = str"
   ]
  },
  {
   "cell_type": "markdown",
   "metadata": {},
   "source": [
    "question\n",
    "\n",
    "Why does this expression cause an error? How can you fix it?\n",
    "'I have eaten ' + 99 + ' burritos.'\n"
   ]
  },
  {
   "cell_type": "code",
   "execution_count": 10,
   "metadata": {},
   "outputs": [],
   "source": [
    "#answer\n",
    "\n",
    "a=  'I have eaten '\n",
    "\n",
    "b= 99 \n",
    "\n",
    "c= ' burritos.'"
   ]
  },
  {
   "cell_type": "code",
   "execution_count": 11,
   "metadata": {},
   "outputs": [
    {
     "ename": "TypeError",
     "evalue": "can only concatenate str (not \"int\") to str",
     "output_type": "error",
     "traceback": [
      "\u001b[1;31m---------------------------------------------------------------------------\u001b[0m",
      "\u001b[1;31mTypeError\u001b[0m                                 Traceback (most recent call last)",
      "\u001b[1;32m<ipython-input-11-0c9ddb80ffc1>\u001b[0m in \u001b[0;36m<module>\u001b[1;34m\u001b[0m\n\u001b[1;32m----> 1\u001b[1;33m \u001b[0md\u001b[0m\u001b[1;33m=\u001b[0m \u001b[0ma\u001b[0m\u001b[1;33m+\u001b[0m\u001b[0mb\u001b[0m\u001b[1;33m+\u001b[0m\u001b[0mc\u001b[0m\u001b[1;33m\u001b[0m\u001b[1;33m\u001b[0m\u001b[0m\n\u001b[0m",
      "\u001b[1;31mTypeError\u001b[0m: can only concatenate str (not \"int\") to str"
     ]
    }
   ],
   "source": [
    "d= a+b+c\n"
   ]
  },
  {
   "cell_type": "markdown",
   "metadata": {},
   "source": [
    "we have to convert int to string as same dataype can be concatenate"
   ]
  },
  {
   "cell_type": "code",
   "execution_count": 12,
   "metadata": {},
   "outputs": [],
   "source": [
    "a=  'I have eaten '\n",
    "\n",
    "b= str(99)\n",
    "\n",
    "c= ' burritos.'"
   ]
  },
  {
   "cell_type": "code",
   "execution_count": 13,
   "metadata": {},
   "outputs": [],
   "source": [
    "d=a+b+c"
   ]
  },
  {
   "cell_type": "code",
   "execution_count": 14,
   "metadata": {},
   "outputs": [
    {
     "data": {
      "text/plain": [
       "'I have eaten 99 burritos.'"
      ]
     },
     "execution_count": 14,
     "metadata": {},
     "output_type": "execute_result"
    }
   ],
   "source": [
    "d"
   ]
  },
  {
   "cell_type": "code",
   "execution_count": null,
   "metadata": {},
   "outputs": [],
   "source": []
  }
 ],
 "metadata": {
  "kernelspec": {
   "display_name": "Python 3",
   "language": "python",
   "name": "python3"
  },
  "language_info": {
   "codemirror_mode": {
    "name": "ipython",
    "version": 3
   },
   "file_extension": ".py",
   "mimetype": "text/x-python",
   "name": "python",
   "nbconvert_exporter": "python",
   "pygments_lexer": "ipython3",
   "version": "3.7.4"
  }
 },
 "nbformat": 4,
 "nbformat_minor": 2
}
